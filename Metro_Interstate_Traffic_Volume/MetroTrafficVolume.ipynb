{
 "cells": [
  {
   "cell_type": "markdown",
   "source": [
    "# Metro Interstate Traffic Volume Prediction\n",
    "### Author : Farbodkhm"
   ],
   "metadata": {
    "collapsed": false
   }
  },
  {
   "cell_type": "markdown",
   "source": [
    "## Importing libraries"
   ],
   "metadata": {
    "collapsed": false
   }
  },
  {
   "cell_type": "code",
   "execution_count": 164,
   "metadata": {
    "collapsed": true
   },
   "outputs": [],
   "source": [
    "import numpy as np\n",
    "import pandas as pd\n",
    "from prettytable import PrettyTable\n",
    "import warnings\n",
    "warnings.filterwarnings(\"ignore\")\n",
    "from sklearn.preprocessing import LabelEncoder,StandardScaler\n",
    "from sklearn.model_selection import train_test_split\n",
    "from sklearn.ensemble import BaggingRegressor\n",
    "from sklearn.metrics import r2_score, explained_variance_score, max_error, mean_squared_error, mean_absolute_error"
   ]
  },
  {
   "cell_type": "markdown",
   "source": [
    "## Importing the dataset"
   ],
   "metadata": {
    "collapsed": false
   }
  },
  {
   "cell_type": "code",
   "execution_count": 165,
   "outputs": [],
   "source": [
    "data = pd.read_csv('Metro_Interstate_Traffic_Volume.csv')"
   ],
   "metadata": {
    "collapsed": false
   }
  },
  {
   "cell_type": "code",
   "execution_count": 166,
   "outputs": [
    {
     "data": {
      "text/plain": "  holiday    temp  rain_1h  snow_1h  clouds_all weather_main  \\\n0    None  288.28      0.0      0.0          40       Clouds   \n1    None  289.36      0.0      0.0          75       Clouds   \n2    None  289.58      0.0      0.0          90       Clouds   \n3    None  290.13      0.0      0.0          90       Clouds   \n4    None  291.14      0.0      0.0          75       Clouds   \n\n  weather_description            date_time  traffic_volume  \n0    scattered clouds  2012-10-02 09:00:00            5545  \n1       broken clouds  2012-10-02 10:00:00            4516  \n2     overcast clouds  2012-10-02 11:00:00            4767  \n3     overcast clouds  2012-10-02 12:00:00            5026  \n4       broken clouds  2012-10-02 13:00:00            4918  ",
      "text/html": "<div>\n<style scoped>\n    .dataframe tbody tr th:only-of-type {\n        vertical-align: middle;\n    }\n\n    .dataframe tbody tr th {\n        vertical-align: top;\n    }\n\n    .dataframe thead th {\n        text-align: right;\n    }\n</style>\n<table border=\"1\" class=\"dataframe\">\n  <thead>\n    <tr style=\"text-align: right;\">\n      <th></th>\n      <th>holiday</th>\n      <th>temp</th>\n      <th>rain_1h</th>\n      <th>snow_1h</th>\n      <th>clouds_all</th>\n      <th>weather_main</th>\n      <th>weather_description</th>\n      <th>date_time</th>\n      <th>traffic_volume</th>\n    </tr>\n  </thead>\n  <tbody>\n    <tr>\n      <th>0</th>\n      <td>None</td>\n      <td>288.28</td>\n      <td>0.0</td>\n      <td>0.0</td>\n      <td>40</td>\n      <td>Clouds</td>\n      <td>scattered clouds</td>\n      <td>2012-10-02 09:00:00</td>\n      <td>5545</td>\n    </tr>\n    <tr>\n      <th>1</th>\n      <td>None</td>\n      <td>289.36</td>\n      <td>0.0</td>\n      <td>0.0</td>\n      <td>75</td>\n      <td>Clouds</td>\n      <td>broken clouds</td>\n      <td>2012-10-02 10:00:00</td>\n      <td>4516</td>\n    </tr>\n    <tr>\n      <th>2</th>\n      <td>None</td>\n      <td>289.58</td>\n      <td>0.0</td>\n      <td>0.0</td>\n      <td>90</td>\n      <td>Clouds</td>\n      <td>overcast clouds</td>\n      <td>2012-10-02 11:00:00</td>\n      <td>4767</td>\n    </tr>\n    <tr>\n      <th>3</th>\n      <td>None</td>\n      <td>290.13</td>\n      <td>0.0</td>\n      <td>0.0</td>\n      <td>90</td>\n      <td>Clouds</td>\n      <td>overcast clouds</td>\n      <td>2012-10-02 12:00:00</td>\n      <td>5026</td>\n    </tr>\n    <tr>\n      <th>4</th>\n      <td>None</td>\n      <td>291.14</td>\n      <td>0.0</td>\n      <td>0.0</td>\n      <td>75</td>\n      <td>Clouds</td>\n      <td>broken clouds</td>\n      <td>2012-10-02 13:00:00</td>\n      <td>4918</td>\n    </tr>\n  </tbody>\n</table>\n</div>"
     },
     "execution_count": 166,
     "metadata": {},
     "output_type": "execute_result"
    }
   ],
   "source": [
    "data.head()"
   ],
   "metadata": {
    "collapsed": false
   }
  },
  {
   "cell_type": "code",
   "execution_count": 167,
   "outputs": [
    {
     "data": {
      "text/plain": "      holiday    temp  rain_1h  snow_1h  clouds_all  weather_main  \\\n48199    None  283.45      0.0      0.0          75        Clouds   \n48200    None  282.76      0.0      0.0          90        Clouds   \n48201    None  282.73      0.0      0.0          90  Thunderstorm   \n48202    None  282.09      0.0      0.0          90        Clouds   \n48203    None  282.12      0.0      0.0          90        Clouds   \n\n          weather_description            date_time  traffic_volume  \n48199           broken clouds  2018-09-30 19:00:00            3543  \n48200         overcast clouds  2018-09-30 20:00:00            2781  \n48201  proximity thunderstorm  2018-09-30 21:00:00            2159  \n48202         overcast clouds  2018-09-30 22:00:00            1450  \n48203         overcast clouds  2018-09-30 23:00:00             954  ",
      "text/html": "<div>\n<style scoped>\n    .dataframe tbody tr th:only-of-type {\n        vertical-align: middle;\n    }\n\n    .dataframe tbody tr th {\n        vertical-align: top;\n    }\n\n    .dataframe thead th {\n        text-align: right;\n    }\n</style>\n<table border=\"1\" class=\"dataframe\">\n  <thead>\n    <tr style=\"text-align: right;\">\n      <th></th>\n      <th>holiday</th>\n      <th>temp</th>\n      <th>rain_1h</th>\n      <th>snow_1h</th>\n      <th>clouds_all</th>\n      <th>weather_main</th>\n      <th>weather_description</th>\n      <th>date_time</th>\n      <th>traffic_volume</th>\n    </tr>\n  </thead>\n  <tbody>\n    <tr>\n      <th>48199</th>\n      <td>None</td>\n      <td>283.45</td>\n      <td>0.0</td>\n      <td>0.0</td>\n      <td>75</td>\n      <td>Clouds</td>\n      <td>broken clouds</td>\n      <td>2018-09-30 19:00:00</td>\n      <td>3543</td>\n    </tr>\n    <tr>\n      <th>48200</th>\n      <td>None</td>\n      <td>282.76</td>\n      <td>0.0</td>\n      <td>0.0</td>\n      <td>90</td>\n      <td>Clouds</td>\n      <td>overcast clouds</td>\n      <td>2018-09-30 20:00:00</td>\n      <td>2781</td>\n    </tr>\n    <tr>\n      <th>48201</th>\n      <td>None</td>\n      <td>282.73</td>\n      <td>0.0</td>\n      <td>0.0</td>\n      <td>90</td>\n      <td>Thunderstorm</td>\n      <td>proximity thunderstorm</td>\n      <td>2018-09-30 21:00:00</td>\n      <td>2159</td>\n    </tr>\n    <tr>\n      <th>48202</th>\n      <td>None</td>\n      <td>282.09</td>\n      <td>0.0</td>\n      <td>0.0</td>\n      <td>90</td>\n      <td>Clouds</td>\n      <td>overcast clouds</td>\n      <td>2018-09-30 22:00:00</td>\n      <td>1450</td>\n    </tr>\n    <tr>\n      <th>48203</th>\n      <td>None</td>\n      <td>282.12</td>\n      <td>0.0</td>\n      <td>0.0</td>\n      <td>90</td>\n      <td>Clouds</td>\n      <td>overcast clouds</td>\n      <td>2018-09-30 23:00:00</td>\n      <td>954</td>\n    </tr>\n  </tbody>\n</table>\n</div>"
     },
     "execution_count": 167,
     "metadata": {},
     "output_type": "execute_result"
    }
   ],
   "source": [
    "data.tail()"
   ],
   "metadata": {
    "collapsed": false
   }
  },
  {
   "cell_type": "code",
   "execution_count": 168,
   "outputs": [
    {
     "name": "stdout",
     "output_type": "stream",
     "text": [
      "<class 'pandas.core.frame.DataFrame'>\n",
      "RangeIndex: 48204 entries, 0 to 48203\n",
      "Data columns (total 9 columns):\n",
      " #   Column               Non-Null Count  Dtype  \n",
      "---  ------               --------------  -----  \n",
      " 0   holiday              48204 non-null  object \n",
      " 1   temp                 48204 non-null  float64\n",
      " 2   rain_1h              48204 non-null  float64\n",
      " 3   snow_1h              48204 non-null  float64\n",
      " 4   clouds_all           48204 non-null  int64  \n",
      " 5   weather_main         48204 non-null  object \n",
      " 6   weather_description  48204 non-null  object \n",
      " 7   date_time            48204 non-null  object \n",
      " 8   traffic_volume       48204 non-null  int64  \n",
      "dtypes: float64(3), int64(2), object(4)\n",
      "memory usage: 3.3+ MB\n"
     ]
    }
   ],
   "source": [
    "data.info()"
   ],
   "metadata": {
    "collapsed": false
   }
  },
  {
   "cell_type": "code",
   "execution_count": 169,
   "outputs": [
    {
     "data": {
      "text/plain": "count    48204.000000\nmean      3259.818355\nstd       1986.860670\nmin          0.000000\n25%       1193.000000\n50%       3380.000000\n75%       4933.000000\nmax       7280.000000\nName: traffic_volume, dtype: float64"
     },
     "execution_count": 169,
     "metadata": {},
     "output_type": "execute_result"
    }
   ],
   "source": [
    "data['traffic_volume'].describe()"
   ],
   "metadata": {
    "collapsed": false
   }
  },
  {
   "cell_type": "markdown",
   "source": [
    "## Transforming Categorical Data to Numerical"
   ],
   "metadata": {
    "collapsed": false
   }
  },
  {
   "cell_type": "markdown",
   "source": [
    "#### We are using LabelEncoder in order to assign a numerical value for each category"
   ],
   "metadata": {
    "collapsed": false
   }
  },
  {
   "cell_type": "code",
   "execution_count": 170,
   "outputs": [],
   "source": [
    "le = LabelEncoder()"
   ],
   "metadata": {
    "collapsed": false
   }
  },
  {
   "cell_type": "code",
   "execution_count": 171,
   "outputs": [
    {
     "data": {
      "text/plain": "{0: 'Christmas Day',\n 1: 'Columbus Day',\n 2: 'Independence Day',\n 3: 'Labor Day',\n 4: 'Martin Luther King Jr Day',\n 5: 'Memorial Day',\n 6: 'New Years Day',\n 7: 'None',\n 8: 'State Fair',\n 9: 'Thanksgiving Day',\n 10: 'Veterans Day',\n 11: 'Washingtons Birthday'}"
     },
     "execution_count": 171,
     "metadata": {},
     "output_type": "execute_result"
    }
   ],
   "source": [
    "Holiday_labels = le.fit_transform(data['holiday'])\n",
    "{index: label for index , label in enumerate(le.classes_)}"
   ],
   "metadata": {
    "collapsed": false
   }
  },
  {
   "cell_type": "code",
   "execution_count": 172,
   "outputs": [
    {
     "data": {
      "text/plain": "{0: 'Clear',\n 1: 'Clouds',\n 2: 'Drizzle',\n 3: 'Fog',\n 4: 'Haze',\n 5: 'Mist',\n 6: 'Rain',\n 7: 'Smoke',\n 8: 'Snow',\n 9: 'Squall',\n 10: 'Thunderstorm'}"
     },
     "execution_count": 172,
     "metadata": {},
     "output_type": "execute_result"
    }
   ],
   "source": [
    "Weather_main = le.fit_transform(data['weather_main'])\n",
    "{index: label for index , label in enumerate(le.classes_)}"
   ],
   "metadata": {
    "collapsed": false
   }
  },
  {
   "cell_type": "code",
   "execution_count": 173,
   "outputs": [
    {
     "data": {
      "text/plain": "{0: 'SQUALLS',\n 1: 'Sky is Clear',\n 2: 'broken clouds',\n 3: 'drizzle',\n 4: 'few clouds',\n 5: 'fog',\n 6: 'freezing rain',\n 7: 'haze',\n 8: 'heavy intensity drizzle',\n 9: 'heavy intensity rain',\n 10: 'heavy snow',\n 11: 'light intensity drizzle',\n 12: 'light intensity shower rain',\n 13: 'light rain',\n 14: 'light rain and snow',\n 15: 'light shower snow',\n 16: 'light snow',\n 17: 'mist',\n 18: 'moderate rain',\n 19: 'overcast clouds',\n 20: 'proximity shower rain',\n 21: 'proximity thunderstorm',\n 22: 'proximity thunderstorm with drizzle',\n 23: 'proximity thunderstorm with rain',\n 24: 'scattered clouds',\n 25: 'shower drizzle',\n 26: 'shower snow',\n 27: 'sky is clear',\n 28: 'sleet',\n 29: 'smoke',\n 30: 'snow',\n 31: 'thunderstorm',\n 32: 'thunderstorm with drizzle',\n 33: 'thunderstorm with heavy rain',\n 34: 'thunderstorm with light drizzle',\n 35: 'thunderstorm with light rain',\n 36: 'thunderstorm with rain',\n 37: 'very heavy rain'}"
     },
     "execution_count": 173,
     "metadata": {},
     "output_type": "execute_result"
    }
   ],
   "source": [
    "Weather_description = le.fit_transform(data['weather_description'])\n",
    "{index: label for index , label in enumerate(le.classes_)}"
   ],
   "metadata": {
    "collapsed": false
   }
  },
  {
   "cell_type": "code",
   "execution_count": 174,
   "outputs": [
    {
     "data": {
      "text/plain": "   holiday    temp  rain_1h  snow_1h  clouds_all  weather_main  \\\n0        7  288.28      0.0      0.0          40             1   \n1        7  289.36      0.0      0.0          75             1   \n2        7  289.58      0.0      0.0          90             1   \n3        7  290.13      0.0      0.0          90             1   \n4        7  291.14      0.0      0.0          75             1   \n\n   weather_description            date_time  traffic_volume  \n0                   24  2012-10-02 09:00:00            5545  \n1                    2  2012-10-02 10:00:00            4516  \n2                   19  2012-10-02 11:00:00            4767  \n3                   19  2012-10-02 12:00:00            5026  \n4                    2  2012-10-02 13:00:00            4918  ",
      "text/html": "<div>\n<style scoped>\n    .dataframe tbody tr th:only-of-type {\n        vertical-align: middle;\n    }\n\n    .dataframe tbody tr th {\n        vertical-align: top;\n    }\n\n    .dataframe thead th {\n        text-align: right;\n    }\n</style>\n<table border=\"1\" class=\"dataframe\">\n  <thead>\n    <tr style=\"text-align: right;\">\n      <th></th>\n      <th>holiday</th>\n      <th>temp</th>\n      <th>rain_1h</th>\n      <th>snow_1h</th>\n      <th>clouds_all</th>\n      <th>weather_main</th>\n      <th>weather_description</th>\n      <th>date_time</th>\n      <th>traffic_volume</th>\n    </tr>\n  </thead>\n  <tbody>\n    <tr>\n      <th>0</th>\n      <td>7</td>\n      <td>288.28</td>\n      <td>0.0</td>\n      <td>0.0</td>\n      <td>40</td>\n      <td>1</td>\n      <td>24</td>\n      <td>2012-10-02 09:00:00</td>\n      <td>5545</td>\n    </tr>\n    <tr>\n      <th>1</th>\n      <td>7</td>\n      <td>289.36</td>\n      <td>0.0</td>\n      <td>0.0</td>\n      <td>75</td>\n      <td>1</td>\n      <td>2</td>\n      <td>2012-10-02 10:00:00</td>\n      <td>4516</td>\n    </tr>\n    <tr>\n      <th>2</th>\n      <td>7</td>\n      <td>289.58</td>\n      <td>0.0</td>\n      <td>0.0</td>\n      <td>90</td>\n      <td>1</td>\n      <td>19</td>\n      <td>2012-10-02 11:00:00</td>\n      <td>4767</td>\n    </tr>\n    <tr>\n      <th>3</th>\n      <td>7</td>\n      <td>290.13</td>\n      <td>0.0</td>\n      <td>0.0</td>\n      <td>90</td>\n      <td>1</td>\n      <td>19</td>\n      <td>2012-10-02 12:00:00</td>\n      <td>5026</td>\n    </tr>\n    <tr>\n      <th>4</th>\n      <td>7</td>\n      <td>291.14</td>\n      <td>0.0</td>\n      <td>0.0</td>\n      <td>75</td>\n      <td>1</td>\n      <td>2</td>\n      <td>2012-10-02 13:00:00</td>\n      <td>4918</td>\n    </tr>\n  </tbody>\n</table>\n</div>"
     },
     "execution_count": 174,
     "metadata": {},
     "output_type": "execute_result"
    }
   ],
   "source": [
    "data['holiday'] = le.fit_transform(data['holiday'])\n",
    "data['weather_main'] = le.fit_transform(data['weather_main'])\n",
    "data['weather_description'] = le.fit_transform(data['weather_description'])\n",
    "data.head()"
   ],
   "metadata": {
    "collapsed": false
   }
  },
  {
   "cell_type": "code",
   "execution_count": 175,
   "outputs": [
    {
     "name": "stdout",
     "output_type": "stream",
     "text": [
      "<class 'pandas.core.frame.DataFrame'>\n",
      "RangeIndex: 48204 entries, 0 to 48203\n",
      "Data columns (total 9 columns):\n",
      " #   Column               Non-Null Count  Dtype  \n",
      "---  ------               --------------  -----  \n",
      " 0   holiday              48204 non-null  int32  \n",
      " 1   temp                 48204 non-null  float64\n",
      " 2   rain_1h              48204 non-null  float64\n",
      " 3   snow_1h              48204 non-null  float64\n",
      " 4   clouds_all           48204 non-null  int64  \n",
      " 5   weather_main         48204 non-null  int32  \n",
      " 6   weather_description  48204 non-null  int32  \n",
      " 7   date_time            48204 non-null  object \n",
      " 8   traffic_volume       48204 non-null  int64  \n",
      "dtypes: float64(3), int32(3), int64(2), object(1)\n",
      "memory usage: 2.8+ MB\n"
     ]
    }
   ],
   "source": [
    "data.info()"
   ],
   "metadata": {
    "collapsed": false
   }
  },
  {
   "cell_type": "markdown",
   "source": [
    "#### In order to transform this format of date & time, we will separate them as four integer numbers!"
   ],
   "metadata": {
    "collapsed": false
   }
  },
  {
   "cell_type": "code",
   "execution_count": 176,
   "outputs": [],
   "source": [
    "data['date_time'] =  pd.to_datetime(data['date_time'])"
   ],
   "metadata": {
    "collapsed": false
   }
  },
  {
   "cell_type": "code",
   "execution_count": 177,
   "outputs": [],
   "source": [
    "data['year'] = pd.DatetimeIndex(data['date_time']).year\n",
    "data['month'] = pd.DatetimeIndex(data['date_time']).month\n",
    "data['day'] = pd.DatetimeIndex(data['date_time']).day\n",
    "data['hour'] = pd.DatetimeIndex(data['date_time']).hour"
   ],
   "metadata": {
    "collapsed": false
   }
  },
  {
   "cell_type": "code",
   "execution_count": 178,
   "outputs": [
    {
     "data": {
      "text/plain": "   holiday    temp  rain_1h  snow_1h  clouds_all  weather_main  \\\n0        7  288.28      0.0      0.0          40             1   \n1        7  289.36      0.0      0.0          75             1   \n2        7  289.58      0.0      0.0          90             1   \n3        7  290.13      0.0      0.0          90             1   \n4        7  291.14      0.0      0.0          75             1   \n\n   weather_description  year  month  day  hour  traffic_volume  \n0                   24  2012     10    2     9            5545  \n1                    2  2012     10    2    10            4516  \n2                   19  2012     10    2    11            4767  \n3                   19  2012     10    2    12            5026  \n4                    2  2012     10    2    13            4918  ",
      "text/html": "<div>\n<style scoped>\n    .dataframe tbody tr th:only-of-type {\n        vertical-align: middle;\n    }\n\n    .dataframe tbody tr th {\n        vertical-align: top;\n    }\n\n    .dataframe thead th {\n        text-align: right;\n    }\n</style>\n<table border=\"1\" class=\"dataframe\">\n  <thead>\n    <tr style=\"text-align: right;\">\n      <th></th>\n      <th>holiday</th>\n      <th>temp</th>\n      <th>rain_1h</th>\n      <th>snow_1h</th>\n      <th>clouds_all</th>\n      <th>weather_main</th>\n      <th>weather_description</th>\n      <th>year</th>\n      <th>month</th>\n      <th>day</th>\n      <th>hour</th>\n      <th>traffic_volume</th>\n    </tr>\n  </thead>\n  <tbody>\n    <tr>\n      <th>0</th>\n      <td>7</td>\n      <td>288.28</td>\n      <td>0.0</td>\n      <td>0.0</td>\n      <td>40</td>\n      <td>1</td>\n      <td>24</td>\n      <td>2012</td>\n      <td>10</td>\n      <td>2</td>\n      <td>9</td>\n      <td>5545</td>\n    </tr>\n    <tr>\n      <th>1</th>\n      <td>7</td>\n      <td>289.36</td>\n      <td>0.0</td>\n      <td>0.0</td>\n      <td>75</td>\n      <td>1</td>\n      <td>2</td>\n      <td>2012</td>\n      <td>10</td>\n      <td>2</td>\n      <td>10</td>\n      <td>4516</td>\n    </tr>\n    <tr>\n      <th>2</th>\n      <td>7</td>\n      <td>289.58</td>\n      <td>0.0</td>\n      <td>0.0</td>\n      <td>90</td>\n      <td>1</td>\n      <td>19</td>\n      <td>2012</td>\n      <td>10</td>\n      <td>2</td>\n      <td>11</td>\n      <td>4767</td>\n    </tr>\n    <tr>\n      <th>3</th>\n      <td>7</td>\n      <td>290.13</td>\n      <td>0.0</td>\n      <td>0.0</td>\n      <td>90</td>\n      <td>1</td>\n      <td>19</td>\n      <td>2012</td>\n      <td>10</td>\n      <td>2</td>\n      <td>12</td>\n      <td>5026</td>\n    </tr>\n    <tr>\n      <th>4</th>\n      <td>7</td>\n      <td>291.14</td>\n      <td>0.0</td>\n      <td>0.0</td>\n      <td>75</td>\n      <td>1</td>\n      <td>2</td>\n      <td>2012</td>\n      <td>10</td>\n      <td>2</td>\n      <td>13</td>\n      <td>4918</td>\n    </tr>\n  </tbody>\n</table>\n</div>"
     },
     "execution_count": 178,
     "metadata": {},
     "output_type": "execute_result"
    }
   ],
   "source": [
    "data.pop('date_time')\n",
    "data.insert(11, 'traffic_volume', data.pop('traffic_volume'))\n",
    "data.head()"
   ],
   "metadata": {
    "collapsed": false
   }
  },
  {
   "cell_type": "markdown",
   "source": [
    "## Split Train & Test Data"
   ],
   "metadata": {
    "collapsed": false
   }
  },
  {
   "cell_type": "code",
   "execution_count": 179,
   "outputs": [],
   "source": [
    "x = data.iloc[:, :-1].values"
   ],
   "metadata": {
    "collapsed": false
   }
  },
  {
   "cell_type": "code",
   "execution_count": 180,
   "outputs": [],
   "source": [
    "y = data.iloc[:, -1].values.reshape(-1, 1)"
   ],
   "metadata": {
    "collapsed": false
   }
  },
  {
   "cell_type": "code",
   "execution_count": 181,
   "outputs": [],
   "source": [
    "x_train, x_test, y_train, y_test = train_test_split(x, y, test_size=0.2, random_state=0)"
   ],
   "metadata": {
    "collapsed": false
   }
  },
  {
   "cell_type": "markdown",
   "source": [
    "## Feature Scaling\n"
   ],
   "metadata": {
    "collapsed": false
   }
  },
  {
   "cell_type": "code",
   "execution_count": 182,
   "outputs": [],
   "source": [
    "sc_x = StandardScaler()\n",
    "x_train = sc_x.fit_transform(x_train)\n",
    "x_test = sc_x.transform(x_test)"
   ],
   "metadata": {
    "collapsed": false
   }
  },
  {
   "cell_type": "code",
   "execution_count": 183,
   "outputs": [],
   "source": [
    "sc_y = StandardScaler()\n",
    "y_train = sc_y.fit_transform(y_train)\n",
    "y_test = sc_y.transform(y_test)"
   ],
   "metadata": {
    "collapsed": false
   }
  },
  {
   "cell_type": "markdown",
   "source": [
    "## Training the Model"
   ],
   "metadata": {
    "collapsed": false
   }
  },
  {
   "cell_type": "code",
   "execution_count": 184,
   "outputs": [],
   "source": [
    "# Bagging Regressor\n",
    "baggingRegressor = BaggingRegressor(n_estimators=50, random_state=0)\n",
    "baggingRegressor.fit(x_train, y_train)\n",
    "y_pred = baggingRegressor.predict(x_test).reshape(-1, 1)"
   ],
   "metadata": {
    "collapsed": false
   }
  },
  {
   "cell_type": "markdown",
   "source": [
    "## Evaluation"
   ],
   "metadata": {
    "collapsed": false
   }
  },
  {
   "cell_type": "code",
   "execution_count": 185,
   "outputs": [
    {
     "name": "stdout",
     "output_type": "stream",
     "text": [
      "+--------------------------+--------------+\n",
      "|          Metric          |    Value     |\n",
      "+--------------------------+--------------+\n",
      "| Explained Variance Score | 0.8331692994 |\n",
      "|           R^2            | 0.8331315392 |\n",
      "|        Max Error         | 2.383399178  |\n",
      "|   Mean Absolute Error    | 0.2605022681 |\n",
      "|    Mean Squared Error    | 0.1649302947 |\n",
      "+--------------------------+--------------+\n"
     ]
    }
   ],
   "source": [
    "def Evaluation(y_test, y_pred):\n",
    "    tabel_parameter = PrettyTable(['Metric', 'Value'])\n",
    "    tabel_parameter.add_row(['Explained Variance Score','{:.10}'.format(explained_variance_score(y_test, y_pred))])\n",
    "    tabel_parameter.add_row(['R^2', '{:.10}'.format(r2_score(y_test, y_pred))])\n",
    "    tabel_parameter.add_row(['Max Error', '{:.10}'.format(max_error(y_test, y_pred))])\n",
    "    tabel_parameter.add_row(['Mean Absolute Error', '{:.10}'.format(mean_absolute_error(y_test, y_pred))])\n",
    "    tabel_parameter.add_row(['Mean Squared Error', '{:.10}'.format(mean_squared_error(y_test, y_pred))])\n",
    "    print(tabel_parameter)\n",
    "\n",
    "Evaluation(y_test, y_pred)"
   ],
   "metadata": {
    "collapsed": false
   }
  },
  {
   "cell_type": "code",
   "execution_count": 186,
   "outputs": [
    {
     "name": "stdout",
     "output_type": "stream",
     "text": [
      "[[5304.04 5875.  ]\n",
      " [2575.6  2868.  ]\n",
      " [ 510.58  557.  ]\n",
      " ...\n",
      " [3052.1  3136.  ]\n",
      " [1885.26 2624.  ]\n",
      " [ 571.58  624.  ]]\n"
     ]
    }
   ],
   "source": [
    "y_pred = sc_y.inverse_transform(baggingRegressor.predict(x_test).reshape(-1,1))\n",
    "np.set_printoptions(precision=2)\n",
    "np.set_printoptions(threshold=10, suppress=True)\n",
    "result = np.concatenate((y_pred.reshape(len(y_pred),1), sc_y.inverse_transform(y_test.reshape(len(y_test),1))),1)\n",
    "print(result)"
   ],
   "metadata": {
    "collapsed": false
   }
  },
  {
   "cell_type": "markdown",
   "source": [
    "#### Save the results if you wish!"
   ],
   "metadata": {
    "collapsed": false
   }
  },
  {
   "cell_type": "code",
   "execution_count": 187,
   "outputs": [],
   "source": [
    "np.set_printoptions(threshold=np.inf)\n",
    "f = open('BaggingRegressorResults.txt', 'w')\n",
    "f.write(str(result))\n",
    "f.close()"
   ],
   "metadata": {
    "collapsed": false
   }
  }
 ],
 "metadata": {
  "kernelspec": {
   "display_name": "Python 3",
   "language": "python",
   "name": "python3"
  },
  "language_info": {
   "codemirror_mode": {
    "name": "ipython",
    "version": 2
   },
   "file_extension": ".py",
   "mimetype": "text/x-python",
   "name": "python",
   "nbconvert_exporter": "python",
   "pygments_lexer": "ipython2",
   "version": "2.7.6"
  }
 },
 "nbformat": 4,
 "nbformat_minor": 0
}
